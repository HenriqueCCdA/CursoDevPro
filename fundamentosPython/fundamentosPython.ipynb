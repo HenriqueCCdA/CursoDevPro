{
  "nbformat": 4,
  "nbformat_minor": 0,
  "metadata": {
    "colab": {
      "name": "fundamentosPython.ipynb",
      "provenance": [],
      "authorship_tag": "ABX9TyNqdjYEENYwtopGiW+QTz0/",
      "include_colab_link": true
    },
    "kernelspec": {
      "name": "python3",
      "display_name": "Python 3"
    },
    "language_info": {
      "name": "python"
    }
  },
  "cells": [
    {
      "cell_type": "markdown",
      "metadata": {
        "id": "view-in-github",
        "colab_type": "text"
      },
      "source": [
        "<a href=\"https://colab.research.google.com/github/HenriqueCCdA/CursoDevProp/blob/main/fundamentosPython/fundamentosPython.ipynb\" target=\"_parent\"><img src=\"https://colab.research.google.com/assets/colab-badge.svg\" alt=\"Open In Colab\"/></a>"
      ]
    },
    {
      "cell_type": "markdown",
      "metadata": {
        "id": "ocMnBrYDF8Dk"
      },
      "source": [
        "# Desavios DevProp\n",
        "\n",
        "[Lista de exrcicios:](https://wiki.python.org.br/ListaDeExercicios)"
      ]
    },
    {
      "cell_type": "markdown",
      "metadata": {
        "id": "O8reGFWLGtpR"
      },
      "source": [
        "# [Estrutura Sequencial](https://wiki.python.org.br/EstruturaSequencial)"
      ]
    },
    {
      "cell_type": "markdown",
      "metadata": {
        "id": "5WuRJuXnHE5Q"
      },
      "source": [
        "Exercício 1"
      ]
    },
    {
      "cell_type": "code",
      "metadata": {
        "colab": {
          "base_uri": "https://localhost:8080/"
        },
        "id": "WmOBQZTvHHcc",
        "outputId": "f4cc042a-40e2-4591-951a-f9b1f8a4484e"
      },
      "source": [
        "print('Olá mudo')"
      ],
      "execution_count": 2,
      "outputs": [
        {
          "output_type": "stream",
          "text": [
            "Olá mudo\n"
          ],
          "name": "stdout"
        }
      ]
    },
    {
      "cell_type": "code",
      "metadata": {
        "colab": {
          "base_uri": "https://localhost:8080/"
        },
        "id": "92ZpCMmqHaRH",
        "outputId": "65a40b2b-79d9-4edc-d283-fd22d923e461"
      },
      "source": [
        "type('Olá mundo')"
      ],
      "execution_count": 3,
      "outputs": [
        {
          "output_type": "execute_result",
          "data": {
            "text/plain": [
              "str"
            ]
          },
          "metadata": {
            "tags": []
          },
          "execution_count": 3
        }
      ]
    },
    {
      "cell_type": "markdown",
      "metadata": {
        "id": "KaVFY8wSHvQA"
      },
      "source": [
        "Exercícios 2\n"
      ]
    },
    {
      "cell_type": "code",
      "metadata": {
        "colab": {
          "base_uri": "https://localhost:8080/"
        },
        "id": "WI0K25y2Hx0l",
        "outputId": "68c36878-3057-4482-ac65-9b94a6f89870"
      },
      "source": [
        "numero = input('Digite um número: ')\n",
        "print(f'O numero informa do foi {numero}')"
      ],
      "execution_count": 4,
      "outputs": [
        {
          "output_type": "stream",
          "text": [
            "Digite um número: \n",
            "O numero informa do foi \n"
          ],
          "name": "stdout"
        }
      ]
    },
    {
      "cell_type": "markdown",
      "metadata": {
        "id": "jEgszucOIYcV"
      },
      "source": [
        "# Exercício 3"
      ]
    },
    {
      "cell_type": "code",
      "metadata": {
        "colab": {
          "base_uri": "https://localhost:8080/"
        },
        "id": "0IT8DbINIbF6",
        "outputId": "f4e24cd2-b322-4a37-aafa-0a3034192c18"
      },
      "source": [
        "numero_1 = int(input('Digite um número: '))\n",
        "numero_2 = int(input('Digite outro número: '))\n",
        "\n",
        "soma = numero_1 + numero_2\n",
        "\n",
        "print(f'A soma dos dois números é {soma}')"
      ],
      "execution_count": 6,
      "outputs": [
        {
          "output_type": "stream",
          "text": [
            "Digite um número: 10\n",
            "Digite outro número: 10\n",
            "A soma dos dois números é 20\n"
          ],
          "name": "stdout"
        }
      ]
    },
    {
      "cell_type": "markdown",
      "metadata": {
        "id": "DC3J80fTI_EM"
      },
      "source": [
        "Exercício 17"
      ]
    },
    {
      "cell_type": "code",
      "metadata": {
        "colab": {
          "base_uri": "https://localhost:8080/"
        },
        "id": "iq4vmIdeLKb9",
        "outputId": "dceb542a-a91f-4f1d-cc76-3fa0172bf40f"
      },
      "source": [
        "import math\n",
        "\n",
        "\n",
        "area_a_ser_pintada = int(input('Digite a área, em metros quadrado, a ser pintada: '))  # Area em metros quadrados\n",
        "\n",
        "area_com_floga = area_a_ser_pintada * 1.1\n",
        "\n",
        "litros_por_metros = 6\n",
        "\n",
        "litros_a_serem_usdados = area_com_floga / litros_por_metros \n",
        "\n",
        "litros_por_latas = 18\n",
        "\n",
        "numero_de_latas = math.ceil(litros_a_serem_usdados / litros_por_latas)\n",
        "valor_com_apenas_latas = numero_de_latas * 80\n",
        "print(f'Você deverá usar usar {numero_de_latas} latas de 18 litros, no valor de R$ {valor_com_apenas_latas}')\n",
        "\n",
        "litros_por_galao = 3.6\n",
        "\n",
        "numero_de_galoes = math.ceil(litros_a_serem_usdados / litros_por_galao)\n",
        "valor_com_apenas_galoes = numero_de_galoes * 25\n",
        "print(f'Você deverá usar usar {numero_de_galoes} galões de 3.6 litros, no valor de R$ {valor_com_apenas_galoes}')\n",
        "\n",
        "# compara de tinta por valor\n",
        "\n",
        "numero_de_latas = math.floor(litros_a_serem_usdados / litros_por_latas)\n",
        "valor_de_latas = numero_de_latas * 80\n",
        "\n",
        "litro_faltantes = litros_a_serem_usdados % litros_por_latas\n",
        "numero_de_galoes = math.ceil(litro_faltantes / litros_por_galao)\n",
        "valor_de_galoes = numero_de_galoes * 25\n",
        "\n",
        "valor_total_gasto = valor_de_latas + valor_de_galoes\n",
        "\n",
        "\n",
        "print(f'Você deverá usar usar {numero_de_latas} latas de 18 litros mais {numero_de_galoes} galões de 3.6 litros, no valor de R$ {valor_total_gasto}')\n"
      ],
      "execution_count": 7,
      "outputs": [
        {
          "output_type": "stream",
          "text": [
            "Digite a área, em metros quadrado, a ser pintada: 20\n",
            "Você deverá usar usar 1 latas de 18 litros, no valor de R$ 80\n",
            "Você deverá usar usar 2 galões de 3.6 litros, no valor de R$ 50\n",
            "Você deverá usar usar 0 latas de 18 litros mais 2 galões de 3.6 litros, no valor de R$ 50\n"
          ],
          "name": "stdout"
        }
      ]
    },
    {
      "cell_type": "markdown",
      "metadata": {
        "id": "wZmCjTGld4GV"
      },
      "source": [
        "# [Lista de Decisão](https://wiki.python.org.br/EstruturaDeDecisao)"
      ]
    },
    {
      "cell_type": "markdown",
      "metadata": {
        "id": "3aO4kJAzeCeM"
      },
      "source": [
        "Exercício 3"
      ]
    },
    {
      "cell_type": "code",
      "metadata": {
        "colab": {
          "base_uri": "https://localhost:8080/"
        },
        "id": "W63xOtNed6Sp",
        "outputId": "66d84c1e-212b-41ed-b184-aff38120906c"
      },
      "source": [
        "sexo = input('Digite o seu sexo. (M para Masculino, F para Feminino, I para Indefinido): ').upper()\n",
        "\n",
        "if sexo == 'M':\n",
        "  print('Masculino')\n",
        "elif sexo == 'F':\n",
        "  print('Femininio')\n",
        "elif sexo == 'I':\n",
        "  print('Indefinido')\n",
        "else:\n",
        "  print('Sexo Inválido')\n",
        "\n",
        "print('Finalizou o programa')"
      ],
      "execution_count": 8,
      "outputs": [
        {
          "output_type": "stream",
          "text": [
            "Digite o seu sexo. (M para Masculino, F para Feminino, I para Indefinido): 10\n",
            "Sexo Inválido\n",
            "Finalizou o programa\n"
          ],
          "name": "stdout"
        }
      ]
    },
    {
      "cell_type": "markdown",
      "metadata": {
        "id": "DVciURtohBtv"
      },
      "source": [
        "Exercício 5"
      ]
    },
    {
      "cell_type": "code",
      "metadata": {
        "colab": {
          "base_uri": "https://localhost:8080/"
        },
        "id": "jQ21Spa0gmfd",
        "outputId": "135fb52a-58c0-429a-b605-aac0c0f8b955"
      },
      "source": [
        "nota_1 = float(input('Digite a promeira nota: '))\n",
        "nota_2 = float(input('Digite a segunda nota: '))\n",
        "\n",
        "media = (nota_1 + nota_2) / 2\n",
        "\n",
        "print(f'Sua média foi: {media}')\n",
        "\n",
        "if media >= 10:\n",
        "  print('Aprovado com distinção')\n",
        "elif media >= 7:\n",
        "  print('Aprovado')\n",
        "else:\n",
        "  print('Repovado')"
      ],
      "execution_count": 9,
      "outputs": [
        {
          "output_type": "stream",
          "text": [
            "Digite a promeira nota: 10\n",
            "Digite a segunda nota: 2\n",
            "Sua média foi: 6.0\n",
            "Repovado\n"
          ],
          "name": "stdout"
        }
      ]
    },
    {
      "cell_type": "markdown",
      "metadata": {
        "id": "JRjssyUbk6KM"
      },
      "source": [
        "Exercício 19"
      ]
    },
    {
      "cell_type": "code",
      "metadata": {
        "colab": {
          "base_uri": "https://localhost:8080/"
        },
        "id": "0MvlBkqYk4Zx",
        "outputId": "a6171354-4cdd-420f-b2d6-15e589a3d4c0"
      },
      "source": [
        "numero = 26\n",
        "\n",
        "centenas_str = dezenas_str = unidades_str = ''\n",
        "\n",
        "centenas_int, numero = divmod(numero, 100)\n",
        "\n",
        "partes_numericas = 0\n",
        "\n",
        "if centenas_int == 1:\n",
        "  centenas_str = ' 1 centena'\n",
        "  partes_numericas += 1\n",
        "elif centenas_int > 1:\n",
        "  centenas_str = f'{centenas_int} centenas'\n",
        "  partes_numericas += 1\n",
        "\n",
        "dezenas_int, numero  = divmod(numero, 10)\n",
        "\n",
        "if dezenas_int == 1:\n",
        "  dezenas_str = ' 1 dezena'\n",
        "  partes_numericas += 1\n",
        "elif dezenas_int > 1:\n",
        "  dezenas_str = f'{dezenas_int} dezenas'\n",
        "  partes_numericas += 1\n",
        "\n",
        "if numero == 1:\n",
        "  unidades_str = ' 1 unidade'\n",
        "  partes_numericas += 1\n",
        "elif numero > 1:\n",
        "  unidades_str = f'{numero} unidades'\n",
        "  partes_numericas += 1\n",
        "\n",
        "if partes_numericas == 0:\n",
        "  print('Número 0 não possui centenas, dezenas ou unidades')\n",
        "elif partes_numericas == 1:\n",
        "  print(centenas_str + dezenas_str + unidades_str)  \n",
        "elif partes_numericas == 3:\n",
        "  print(f'{centenas_str}, {dezenas_str} e {unidades_str}')    \n",
        "elif partes_numericas == 2:\n",
        "  if centenas_str != '':\n",
        "    segunda_parte = dezenas_str + unidades_str\n",
        "    print(f'{centenas_str} e {segunda_parte}')    \n",
        "  else:\n",
        "    print(f'{ dezenas_str} e {unidades_str}')\n",
        "\n"
      ],
      "execution_count": 10,
      "outputs": [
        {
          "output_type": "stream",
          "text": [
            "2 dezenas e 6 unidades\n"
          ],
          "name": "stdout"
        }
      ]
    },
    {
      "cell_type": "markdown",
      "metadata": {
        "id": "WKFohQRBqUxJ"
      },
      "source": [
        "Exercicios 21"
      ]
    },
    {
      "cell_type": "code",
      "metadata": {
        "colab": {
          "base_uri": "https://localhost:8080/"
        },
        "id": "_w0N--pCqaBY",
        "outputId": "b659183d-f32f-46da-fc5f-7551fe9fad5c"
      },
      "source": [
        "saque = 299\n",
        "\n",
        "notas_de_100 = notas_de_50 = notas_de_10 = notas_de_5 = notas_de_1 = 0\n",
        "\n",
        "notas_de_100, saque      = divmod(saque, 100)\n",
        "notas_de_50 , saque      = divmod(saque, 50)\n",
        "notas_de_10 , saque      = divmod(saque, 10)\n",
        "notas_de_5  , notas_de_1 = divmod(saque, 5)\n",
        "\n",
        "if notas_de_100 > 0:\n",
        "  print(f'{notas_de_100} nota(s) de 100')\n",
        "\n",
        "if notas_de_50 > 0:\n",
        "  print(f'{notas_de_50} nota(s) de 50')\n",
        "\n",
        "if notas_de_10 > 0:\n",
        "  print(f'{notas_de_10} nota(s) de 10')\n",
        "\n",
        "if notas_de_5 > 0:\n",
        "  print(f'{notas_de_5} nota(s) de 5')\n",
        "\n",
        "if notas_de_1 > 0:\n",
        "  print(f'{notas_de_1} nota(s) de 1')  \n"
      ],
      "execution_count": 11,
      "outputs": [
        {
          "output_type": "stream",
          "text": [
            "2 nota(s) de 100\n",
            "1 nota(s) de 50\n",
            "4 nota(s) de 10\n",
            "1 nota(s) de 5\n",
            "4 nota(s) de 1\n"
          ],
          "name": "stdout"
        }
      ]
    },
    {
      "cell_type": "markdown",
      "metadata": {
        "id": "O_PI4ssNpeki"
      },
      "source": [
        "# [Estrutura de repetição](https://wiki.python.org.br/EstruturaDeRepeticao)"
      ]
    },
    {
      "cell_type": "markdown",
      "metadata": {
        "id": "eVinDkTp0SDg"
      },
      "source": [
        "Exercicio 1"
      ]
    },
    {
      "cell_type": "code",
      "metadata": {
        "id": "Bp3df2eclzqn",
        "outputId": "2cbefec3-0786-455b-9653-c9a0140300f1",
        "colab": {
          "base_uri": "https://localhost:8080/"
        }
      },
      "source": [
        "while True:\n",
        "  try:\n",
        "    numero = int(input('Digite um valor de 0 a 10: '))\n",
        "  except ValueError:\n",
        "    print('Deve ser fornecido um valor inteiro')\n",
        "  else:\n",
        "    if 0 <= numero <= 10:\n",
        "      print(f'Número informado é: {numero}')\n",
        "      break\n",
        "    else:\n",
        "      print(f'O número deve estar entre 0 e 10')"
      ],
      "execution_count": 18,
      "outputs": [
        {
          "output_type": "stream",
          "text": [
            "Digite um valor de 0 a 10: 212\n",
            "O número deve estar entre 0 e 10\n",
            "Digite um valor de 0 a 10: 232\n",
            "O número deve estar entre 0 e 10\n",
            "Digite um valor de 0 a 10: 12\n",
            "O número deve estar entre 0 e 10\n",
            "Digite um valor de 0 a 10: 5\n",
            "Número informado é: 5\n"
          ],
          "name": "stdout"
        }
      ]
    },
    {
      "cell_type": "markdown",
      "metadata": {
        "id": "d4Zddy9L2iss"
      },
      "source": [
        "Exercício 4"
      ]
    },
    {
      "cell_type": "code",
      "metadata": {
        "id": "lkV5fszY0qGG",
        "outputId": "21d29bd5-4317-48be-fa41-2cce816ce7d2",
        "colab": {
          "base_uri": "https://localhost:8080/"
        }
      },
      "source": [
        "populacao_a = 80_000\n",
        "populacao_b = 200_000\n",
        "taxa_de_crescimento_de_a = 1.03\n",
        "taxa_de_cerscimento_de_b = 1.015\n",
        "anos = 0\n",
        "\n",
        "while populacao_a < populacao_b:\n",
        "    anos +=1\n",
        "    populacao_a *= taxa_de_crescimento_de_a\n",
        "    populacao_b *= taxa_de_cerscimento_de_b\n",
        "\n",
        "print(f'####### População no ano {anos}')\n",
        "print(f'População de A: {int(populacao_a)}')\n",
        "print(f'População de B: {int(populacao_b)}')"
      ],
      "execution_count": 24,
      "outputs": [
        {
          "output_type": "stream",
          "text": [
            "####### População no ano 63\n",
            "População de A: 515033\n",
            "População de B: 510964\n"
          ],
          "name": "stdout"
        }
      ]
    },
    {
      "cell_type": "markdown",
      "metadata": {
        "id": "0mRwcwfr5TBW"
      },
      "source": [
        "Exercício 7"
      ]
    },
    {
      "cell_type": "code",
      "metadata": {
        "id": "4z5z8UZV3MpY",
        "outputId": "940ef2cb-c1e4-4f25-85a0-7be45c58947d",
        "colab": {
          "base_uri": "https://localhost:8080/"
        }
      },
      "source": [
        "maximo = float(input('Digito um número: '))\n",
        "\n",
        "for _ in range(4):\n",
        "  maximo = max(maximo, float(input('Digito um número: ')))\n",
        "  print(f'Número máximo encontrado até agora é: {maximo}')"
      ],
      "execution_count": 27,
      "outputs": [
        {
          "output_type": "stream",
          "text": [
            "Digito um número: 2\n",
            "Digito um número: 3\n",
            "Número máximo encontrado até agora é: 3.0\n",
            "Digito um número: 4\n",
            "Número máximo encontrado até agora é: 4.0\n",
            "Digito um número: 500\n",
            "Número máximo encontrado até agora é: 500.0\n",
            "Digito um número: 4588314\n",
            "Número máximo encontrado até agora é: 4588314.0\n"
          ],
          "name": "stdout"
        }
      ]
    },
    {
      "cell_type": "markdown",
      "metadata": {
        "id": "va4RGARb8wOu"
      },
      "source": [
        "Exercício 8"
      ]
    },
    {
      "cell_type": "code",
      "metadata": {
        "id": "Z15xtqfu54G4",
        "outputId": "f7beb90c-2b4a-49ec-e6ee-7265d99ebe75",
        "colab": {
          "base_uri": "https://localhost:8080/"
        }
      },
      "source": [
        "soma = float(input('Digito um número: '))\n",
        "\n",
        "for n in range(2, 6):\n",
        "  soma += float(input('Digito um número: '))\n",
        "  media = soma/n\n",
        "  print(f'A soma dos números é: {soma}, e a média é {media}')\n"
      ],
      "execution_count": 30,
      "outputs": [
        {
          "output_type": "stream",
          "text": [
            "Digito um número: 2\n",
            "Digito um número: 4\n",
            "A soma dos números é: 6.0, e a média é 3.0\n",
            "Digito um número: 6\n",
            "A soma dos números é: 12.0, e a média é 4.0\n",
            "Digito um número: 4\n",
            "A soma dos números é: 16.0, e a média é 4.0\n",
            "Digito um número: 4\n",
            "A soma dos números é: 20.0, e a média é 4.0\n"
          ],
          "name": "stdout"
        }
      ]
    },
    {
      "cell_type": "markdown",
      "metadata": {
        "id": "CgfUtTJa-JoK"
      },
      "source": [
        "# [Lista](https://wiki.python.org.br/ExerciciosListas) "
      ]
    },
    {
      "cell_type": "markdown",
      "metadata": {
        "id": "-TaPm-6h-UXj"
      },
      "source": [
        "Exercício 1 - Faça um Programa que leia um vetor de 5 números inteiros e mostre-os."
      ]
    },
    {
      "cell_type": "code",
      "metadata": {
        "id": "iMjJK3N2-Wp-",
        "outputId": "3a63efed-fbbc-4014-90e5-289eaa70cae4",
        "colab": {
          "base_uri": "https://localhost:8080/"
        }
      },
      "source": [
        "lista = []\n",
        "\n",
        "for _ in range(5):\n",
        "  numero = float(input('Digito um número: '))\n",
        "  lista.append(numero)\n",
        "\n",
        "print(lista)"
      ],
      "execution_count": 32,
      "outputs": [
        {
          "output_type": "stream",
          "text": [
            "Digito um número: 2\n",
            "Digito um número: 3\n",
            "Digito um número: 4\n",
            "Digito um número: .5\n",
            "Digito um número: 8.8\n",
            "[2.0, 3.0, 4.0, 0.5, 8.8]\n"
          ],
          "name": "stdout"
        }
      ]
    },
    {
      "cell_type": "markdown",
      "metadata": {
        "id": "ikVRs9UO_jXv"
      },
      "source": [
        "Exercício 2 - Faça um Programa que leia um vetor de 10 números reais e mostre-os na ordem inversa."
      ]
    },
    {
      "cell_type": "code",
      "metadata": {
        "id": "TUqKVqJK-1cN",
        "outputId": "642eef3a-12a3-47a5-d31b-8fcf19871236",
        "colab": {
          "base_uri": "https://localhost:8080/"
        }
      },
      "source": [
        "lista = []\n",
        "\n",
        "for _ in range(10):\n",
        "  numero = float(input('Digito um número: '))\n",
        "  lista.append(numero)\n",
        "\n",
        "lista.reverse()\n",
        "print(lista)"
      ],
      "execution_count": 33,
      "outputs": [
        {
          "output_type": "stream",
          "text": [
            "Digito um número: 1\n",
            "Digito um número: 4\n",
            "Digito um número: 5\n",
            "Digito um número: -6\n",
            "Digito um número: 4\n",
            "Digito um número: 3\n",
            "Digito um número: 45\n",
            "Digito um número: 1124\n",
            "Digito um número: 44444\n",
            "Digito um número: 135422\n",
            "[135422.0, 44444.0, 1124.0, 45.0, 3.0, 4.0, -6.0, 5.0, 4.0, 1.0]\n"
          ],
          "name": "stdout"
        }
      ]
    },
    {
      "cell_type": "markdown",
      "metadata": {
        "id": "lp7ZuJU5AGtu"
      },
      "source": [
        "\n",
        "Exercício 15\n",
        "\n",
        "Faça um programa que leia um número indeterminado de valores, correspondentes a notas, encerrando a entrada de dados quando for informado um valor igual a -1 (que não deve ser armazenado). Após esta entrada de dados, faça:\n",
        "\n",
        "1. Mostre a quantidade de valores que foram lidos;\n",
        "2. Exiba todos os valores na ordem em que foram informados, um ao lado do outro;\n",
        "3. Exiba todos os valores na ordem inversa à que foram informados, um abaixo do outro;\n",
        "4. Calcule e mostre a soma dos valores;\n",
        "5. Calcule e mostre a média dos valores;\n",
        "6. Calcule e mostre a quantidade de valores acima da média calculada;\n",
        "7. Calcule e mostre a quantidade de valores abaixo de sete;\n",
        "8. Encerre o programa com uma mensagem;"
      ]
    },
    {
      "cell_type": "code",
      "metadata": {
        "id": "hInJdiEx_476",
        "outputId": "440f8cf2-20eb-4b52-f313-d6e1bb3cb3ca",
        "colab": {
          "base_uri": "https://localhost:8080/"
        }
      },
      "source": [
        "notas = []\n",
        "\n",
        "lista = []\n",
        "while True:\n",
        "  entrada = input('Digito um número: ')\n",
        "  if entrada == '-1':\n",
        "    break\n",
        "  \n",
        "  notas.append(float(entrada))\n",
        "\n",
        "tamanho = len(notas)\n",
        "\n",
        "print(f'Foram lidas {tamanho} notas')\n",
        "\n",
        "print(' '.join([str(nota) for nota in notas]))\n",
        "\n",
        "notas.reverse()\n",
        "\n",
        "for nota in notas:\n",
        "  print(nota)\n",
        "\n",
        "soma = sum(notas)\n",
        "\n",
        "print(f'Soma das notas é: {soma}')\n",
        "\n",
        "media = soma / tamanho\n",
        "\n",
        "print(f'A média das notas é: {media}')\n",
        "\n",
        "print('Notas acima da média: ')\n",
        "\n",
        "print(' '.join([str(nota) for nota in notas if nota > media]))\n",
        "\n",
        "print('Notas abaixo de 7: ')\n",
        "print(' '.join([str(nota) for nota in notas if nota < 7]))\n",
        "\n",
        "print('Encerrado programa de estatíticas de notas')"
      ],
      "execution_count": 44,
      "outputs": [
        {
          "output_type": "stream",
          "text": [
            "Digito um número: 1\n",
            "Digito um número: 2\n",
            "Digito um número: 7\n",
            "Digito um número: 3\n",
            "Digito um número: 10\n",
            "Digito um número: 15\n",
            "Digito um número: -1\n",
            "Foram lidas 6 notas\n",
            "1.0 2.0 7.0 3.0 10.0 15.0\n",
            "15.0\n",
            "10.0\n",
            "3.0\n",
            "7.0\n",
            "2.0\n",
            "1.0\n",
            "Soma das notas é: 38.0\n",
            "A média das notas é: 6.333333333333333\n",
            "Notas acima da média: \n",
            "15.0 10.0 7.0\n",
            "Notas abaixo de 7: \n",
            "3.0 2.0 1.0\n",
            "Encerrado programa de estatíticas de notas\n"
          ],
          "name": "stdout"
        }
      ]
    },
    {
      "cell_type": "code",
      "metadata": {
        "id": "gylZmMEJBI-S"
      },
      "source": [
        ""
      ],
      "execution_count": null,
      "outputs": []
    }
  ]
}