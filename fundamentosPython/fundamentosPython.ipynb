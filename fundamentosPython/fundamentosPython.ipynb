{
  "nbformat": 4,
  "nbformat_minor": 0,
  "metadata": {
    "colab": {
      "name": "fundamentosPython.ipynb",
      "provenance": [],
      "authorship_tag": "ABX9TyN4fUXCSRHq5kW2BpHiUTJ5",
      "include_colab_link": true
    },
    "kernelspec": {
      "name": "python3",
      "display_name": "Python 3"
    },
    "language_info": {
      "name": "python"
    }
  },
  "cells": [
    {
      "cell_type": "markdown",
      "metadata": {
        "id": "view-in-github",
        "colab_type": "text"
      },
      "source": [
        "<a href=\"https://colab.research.google.com/github/HenriqueCCdA/CursoDevProp/blob/main/fundamentosPython/fundamentosPython.ipynb\" target=\"_parent\"><img src=\"https://colab.research.google.com/assets/colab-badge.svg\" alt=\"Open In Colab\"/></a>"
      ]
    },
    {
      "cell_type": "markdown",
      "metadata": {
        "id": "ocMnBrYDF8Dk"
      },
      "source": [
        "# Desavios DevProp\n",
        "\n",
        "[Lista de exrcicios:](https://wiki.python.org.br/ListaDeExercicios)"
      ]
    },
    {
      "cell_type": "markdown",
      "metadata": {
        "id": "O8reGFWLGtpR"
      },
      "source": [
        "# [Estrutura Sequencial](https://wiki.python.org.br/EstruturaSequencial)"
      ]
    },
    {
      "cell_type": "markdown",
      "metadata": {
        "id": "5WuRJuXnHE5Q"
      },
      "source": [
        "Exercício 1"
      ]
    },
    {
      "cell_type": "code",
      "metadata": {
        "colab": {
          "base_uri": "https://localhost:8080/"
        },
        "id": "WmOBQZTvHHcc",
        "outputId": "f4cc042a-40e2-4591-951a-f9b1f8a4484e"
      },
      "source": [
        "print('Olá mudo')"
      ],
      "execution_count": null,
      "outputs": [
        {
          "output_type": "stream",
          "text": [
            "Olá mudo\n"
          ],
          "name": "stdout"
        }
      ]
    },
    {
      "cell_type": "code",
      "metadata": {
        "colab": {
          "base_uri": "https://localhost:8080/"
        },
        "id": "92ZpCMmqHaRH",
        "outputId": "65a40b2b-79d9-4edc-d283-fd22d923e461"
      },
      "source": [
        "type('Olá mundo')"
      ],
      "execution_count": null,
      "outputs": [
        {
          "output_type": "execute_result",
          "data": {
            "text/plain": [
              "str"
            ]
          },
          "metadata": {
            "tags": []
          },
          "execution_count": 3
        }
      ]
    },
    {
      "cell_type": "markdown",
      "metadata": {
        "id": "KaVFY8wSHvQA"
      },
      "source": [
        "Exercícios 2\n"
      ]
    },
    {
      "cell_type": "code",
      "metadata": {
        "colab": {
          "base_uri": "https://localhost:8080/"
        },
        "id": "WI0K25y2Hx0l",
        "outputId": "68c36878-3057-4482-ac65-9b94a6f89870"
      },
      "source": [
        "numero = input('Digite um número: ')\n",
        "print(f'O numero informa do foi {numero}')"
      ],
      "execution_count": null,
      "outputs": [
        {
          "output_type": "stream",
          "text": [
            "Digite um número: \n",
            "O numero informa do foi \n"
          ],
          "name": "stdout"
        }
      ]
    },
    {
      "cell_type": "markdown",
      "metadata": {
        "id": "jEgszucOIYcV"
      },
      "source": [
        "# Exercício 3"
      ]
    },
    {
      "cell_type": "code",
      "metadata": {
        "colab": {
          "base_uri": "https://localhost:8080/"
        },
        "id": "0IT8DbINIbF6",
        "outputId": "f4e24cd2-b322-4a37-aafa-0a3034192c18"
      },
      "source": [
        "numero_1 = int(input('Digite um número: '))\n",
        "numero_2 = int(input('Digite outro número: '))\n",
        "\n",
        "soma = numero_1 + numero_2\n",
        "\n",
        "print(f'A soma dos dois números é {soma}')"
      ],
      "execution_count": null,
      "outputs": [
        {
          "output_type": "stream",
          "text": [
            "Digite um número: 10\n",
            "Digite outro número: 10\n",
            "A soma dos dois números é 20\n"
          ],
          "name": "stdout"
        }
      ]
    },
    {
      "cell_type": "markdown",
      "metadata": {
        "id": "DC3J80fTI_EM"
      },
      "source": [
        "Exercício 17"
      ]
    },
    {
      "cell_type": "code",
      "metadata": {
        "colab": {
          "base_uri": "https://localhost:8080/"
        },
        "id": "iq4vmIdeLKb9",
        "outputId": "dceb542a-a91f-4f1d-cc76-3fa0172bf40f"
      },
      "source": [
        "import math\n",
        "\n",
        "\n",
        "area_a_ser_pintada = int(input('Digite a área, em metros quadrado, a ser pintada: '))  # Area em metros quadrados\n",
        "\n",
        "area_com_floga = area_a_ser_pintada * 1.1\n",
        "\n",
        "litros_por_metros = 6\n",
        "\n",
        "litros_a_serem_usdados = area_com_floga / litros_por_metros \n",
        "\n",
        "litros_por_latas = 18\n",
        "\n",
        "numero_de_latas = math.ceil(litros_a_serem_usdados / litros_por_latas)\n",
        "valor_com_apenas_latas = numero_de_latas * 80\n",
        "print(f'Você deverá usar usar {numero_de_latas} latas de 18 litros, no valor de R$ {valor_com_apenas_latas}')\n",
        "\n",
        "litros_por_galao = 3.6\n",
        "\n",
        "numero_de_galoes = math.ceil(litros_a_serem_usdados / litros_por_galao)\n",
        "valor_com_apenas_galoes = numero_de_galoes * 25\n",
        "print(f'Você deverá usar usar {numero_de_galoes} galões de 3.6 litros, no valor de R$ {valor_com_apenas_galoes}')\n",
        "\n",
        "# compara de tinta por valor\n",
        "\n",
        "numero_de_latas = math.floor(litros_a_serem_usdados / litros_por_latas)\n",
        "valor_de_latas = numero_de_latas * 80\n",
        "\n",
        "litro_faltantes = litros_a_serem_usdados % litros_por_latas\n",
        "numero_de_galoes = math.ceil(litro_faltantes / litros_por_galao)\n",
        "valor_de_galoes = numero_de_galoes * 25\n",
        "\n",
        "valor_total_gasto = valor_de_latas + valor_de_galoes\n",
        "\n",
        "\n",
        "print(f'Você deverá usar usar {numero_de_latas} latas de 18 litros mais {numero_de_galoes} galões de 3.6 litros, no valor de R$ {valor_total_gasto}')\n"
      ],
      "execution_count": null,
      "outputs": [
        {
          "output_type": "stream",
          "text": [
            "Digite a área, em metros quadrado, a ser pintada: 20\n",
            "Você deverá usar usar 1 latas de 18 litros, no valor de R$ 80\n",
            "Você deverá usar usar 2 galões de 3.6 litros, no valor de R$ 50\n",
            "Você deverá usar usar 0 latas de 18 litros mais 2 galões de 3.6 litros, no valor de R$ 50\n"
          ],
          "name": "stdout"
        }
      ]
    },
    {
      "cell_type": "markdown",
      "metadata": {
        "id": "wZmCjTGld4GV"
      },
      "source": [
        "# [Lista de Decisão](https://wiki.python.org.br/EstruturaDeDecisao)"
      ]
    },
    {
      "cell_type": "markdown",
      "metadata": {
        "id": "3aO4kJAzeCeM"
      },
      "source": [
        "Exercício 3"
      ]
    },
    {
      "cell_type": "code",
      "metadata": {
        "colab": {
          "base_uri": "https://localhost:8080/"
        },
        "id": "W63xOtNed6Sp",
        "outputId": "66d84c1e-212b-41ed-b184-aff38120906c"
      },
      "source": [
        "sexo = input('Digite o seu sexo. (M para Masculino, F para Feminino, I para Indefinido): ').upper()\n",
        "\n",
        "if sexo == 'M':\n",
        "  print('Masculino')\n",
        "elif sexo == 'F':\n",
        "  print('Femininio')\n",
        "elif sexo == 'I':\n",
        "  print('Indefinido')\n",
        "else:\n",
        "  print('Sexo Inválido')\n",
        "\n",
        "print('Finalizou o programa')"
      ],
      "execution_count": null,
      "outputs": [
        {
          "output_type": "stream",
          "text": [
            "Digite o seu sexo. (M para Masculino, F para Feminino, I para Indefinido): 10\n",
            "Sexo Inválido\n",
            "Finalizou o programa\n"
          ],
          "name": "stdout"
        }
      ]
    },
    {
      "cell_type": "markdown",
      "metadata": {
        "id": "DVciURtohBtv"
      },
      "source": [
        "Exercício 5"
      ]
    },
    {
      "cell_type": "code",
      "metadata": {
        "colab": {
          "base_uri": "https://localhost:8080/"
        },
        "id": "jQ21Spa0gmfd",
        "outputId": "135fb52a-58c0-429a-b605-aac0c0f8b955"
      },
      "source": [
        "nota_1 = float(input('Digite a promeira nota: '))\n",
        "nota_2 = float(input('Digite a segunda nota: '))\n",
        "\n",
        "media = (nota_1 + nota_2) / 2\n",
        "\n",
        "print(f'Sua média foi: {media}')\n",
        "\n",
        "if media >= 10:\n",
        "  print('Aprovado com distinção')\n",
        "elif media >= 7:\n",
        "  print('Aprovado')\n",
        "else:\n",
        "  print('Repovado')"
      ],
      "execution_count": null,
      "outputs": [
        {
          "output_type": "stream",
          "text": [
            "Digite a promeira nota: 10\n",
            "Digite a segunda nota: 2\n",
            "Sua média foi: 6.0\n",
            "Repovado\n"
          ],
          "name": "stdout"
        }
      ]
    },
    {
      "cell_type": "markdown",
      "metadata": {
        "id": "JRjssyUbk6KM"
      },
      "source": [
        "Exercício 19"
      ]
    },
    {
      "cell_type": "code",
      "metadata": {
        "colab": {
          "base_uri": "https://localhost:8080/"
        },
        "id": "0MvlBkqYk4Zx",
        "outputId": "a6171354-4cdd-420f-b2d6-15e589a3d4c0"
      },
      "source": [
        "numero = 26\n",
        "\n",
        "centenas_str = dezenas_str = unidades_str = ''\n",
        "\n",
        "centenas_int, numero = divmod(numero, 100)\n",
        "\n",
        "partes_numericas = 0\n",
        "\n",
        "if centenas_int == 1:\n",
        "  centenas_str = ' 1 centena'\n",
        "  partes_numericas += 1\n",
        "elif centenas_int > 1:\n",
        "  centenas_str = f'{centenas_int} centenas'\n",
        "  partes_numericas += 1\n",
        "\n",
        "dezenas_int, numero  = divmod(numero, 10)\n",
        "\n",
        "if dezenas_int == 1:\n",
        "  dezenas_str = ' 1 dezena'\n",
        "  partes_numericas += 1\n",
        "elif dezenas_int > 1:\n",
        "  dezenas_str = f'{dezenas_int} dezenas'\n",
        "  partes_numericas += 1\n",
        "\n",
        "if numero == 1:\n",
        "  unidades_str = ' 1 unidade'\n",
        "  partes_numericas += 1\n",
        "elif numero > 1:\n",
        "  unidades_str = f'{numero} unidades'\n",
        "  partes_numericas += 1\n",
        "\n",
        "if partes_numericas == 0:\n",
        "  print('Número 0 não possui centenas, dezenas ou unidades')\n",
        "elif partes_numericas == 1:\n",
        "  print(centenas_str + dezenas_str + unidades_str)  \n",
        "elif partes_numericas == 3:\n",
        "  print(f'{centenas_str}, {dezenas_str} e {unidades_str}')    \n",
        "elif partes_numericas == 2:\n",
        "  if centenas_str != '':\n",
        "    segunda_parte = dezenas_str + unidades_str\n",
        "    print(f'{centenas_str} e {segunda_parte}')    \n",
        "  else:\n",
        "    print(f'{ dezenas_str} e {unidades_str}')\n",
        "\n"
      ],
      "execution_count": null,
      "outputs": [
        {
          "output_type": "stream",
          "text": [
            "2 dezenas e 6 unidades\n"
          ],
          "name": "stdout"
        }
      ]
    },
    {
      "cell_type": "markdown",
      "metadata": {
        "id": "WKFohQRBqUxJ"
      },
      "source": [
        "Exercicios 21"
      ]
    },
    {
      "cell_type": "code",
      "metadata": {
        "colab": {
          "base_uri": "https://localhost:8080/"
        },
        "id": "_w0N--pCqaBY",
        "outputId": "b659183d-f32f-46da-fc5f-7551fe9fad5c"
      },
      "source": [
        "saque = 299\n",
        "\n",
        "notas_de_100 = notas_de_50 = notas_de_10 = notas_de_5 = notas_de_1 = 0\n",
        "\n",
        "notas_de_100, saque      = divmod(saque, 100)\n",
        "notas_de_50 , saque      = divmod(saque, 50)\n",
        "notas_de_10 , saque      = divmod(saque, 10)\n",
        "notas_de_5  , notas_de_1 = divmod(saque, 5)\n",
        "\n",
        "if notas_de_100 > 0:\n",
        "  print(f'{notas_de_100} nota(s) de 100')\n",
        "\n",
        "if notas_de_50 > 0:\n",
        "  print(f'{notas_de_50} nota(s) de 50')\n",
        "\n",
        "if notas_de_10 > 0:\n",
        "  print(f'{notas_de_10} nota(s) de 10')\n",
        "\n",
        "if notas_de_5 > 0:\n",
        "  print(f'{notas_de_5} nota(s) de 5')\n",
        "\n",
        "if notas_de_1 > 0:\n",
        "  print(f'{notas_de_1} nota(s) de 1')  \n"
      ],
      "execution_count": null,
      "outputs": [
        {
          "output_type": "stream",
          "text": [
            "2 nota(s) de 100\n",
            "1 nota(s) de 50\n",
            "4 nota(s) de 10\n",
            "1 nota(s) de 5\n",
            "4 nota(s) de 1\n"
          ],
          "name": "stdout"
        }
      ]
    },
    {
      "cell_type": "markdown",
      "metadata": {
        "id": "O_PI4ssNpeki"
      },
      "source": [
        "# [Estrutura de repetição](https://wiki.python.org.br/EstruturaDeRepeticao)"
      ]
    },
    {
      "cell_type": "markdown",
      "metadata": {
        "id": "eVinDkTp0SDg"
      },
      "source": [
        "Exercicio 1"
      ]
    },
    {
      "cell_type": "code",
      "metadata": {
        "id": "Bp3df2eclzqn",
        "colab": {
          "base_uri": "https://localhost:8080/"
        },
        "outputId": "2cbefec3-0786-455b-9653-c9a0140300f1"
      },
      "source": [
        "while True:\n",
        "  try:\n",
        "    numero = int(input('Digite um valor de 0 a 10: '))\n",
        "  except ValueError:\n",
        "    print('Deve ser fornecido um valor inteiro')\n",
        "  else:\n",
        "    if 0 <= numero <= 10:\n",
        "      print(f'Número informado é: {numero}')\n",
        "      break\n",
        "    else:\n",
        "      print(f'O número deve estar entre 0 e 10')"
      ],
      "execution_count": null,
      "outputs": [
        {
          "output_type": "stream",
          "text": [
            "Digite um valor de 0 a 10: 212\n",
            "O número deve estar entre 0 e 10\n",
            "Digite um valor de 0 a 10: 232\n",
            "O número deve estar entre 0 e 10\n",
            "Digite um valor de 0 a 10: 12\n",
            "O número deve estar entre 0 e 10\n",
            "Digite um valor de 0 a 10: 5\n",
            "Número informado é: 5\n"
          ],
          "name": "stdout"
        }
      ]
    },
    {
      "cell_type": "markdown",
      "metadata": {
        "id": "d4Zddy9L2iss"
      },
      "source": [
        "Exercício 4"
      ]
    },
    {
      "cell_type": "code",
      "metadata": {
        "id": "lkV5fszY0qGG",
        "colab": {
          "base_uri": "https://localhost:8080/"
        },
        "outputId": "21d29bd5-4317-48be-fa41-2cce816ce7d2"
      },
      "source": [
        "populacao_a = 80_000\n",
        "populacao_b = 200_000\n",
        "taxa_de_crescimento_de_a = 1.03\n",
        "taxa_de_cerscimento_de_b = 1.015\n",
        "anos = 0\n",
        "\n",
        "while populacao_a < populacao_b:\n",
        "    anos +=1\n",
        "    populacao_a *= taxa_de_crescimento_de_a\n",
        "    populacao_b *= taxa_de_cerscimento_de_b\n",
        "\n",
        "print(f'####### População no ano {anos}')\n",
        "print(f'População de A: {int(populacao_a)}')\n",
        "print(f'População de B: {int(populacao_b)}')"
      ],
      "execution_count": null,
      "outputs": [
        {
          "output_type": "stream",
          "text": [
            "####### População no ano 63\n",
            "População de A: 515033\n",
            "População de B: 510964\n"
          ],
          "name": "stdout"
        }
      ]
    },
    {
      "cell_type": "markdown",
      "metadata": {
        "id": "0mRwcwfr5TBW"
      },
      "source": [
        "Exercício 7"
      ]
    },
    {
      "cell_type": "code",
      "metadata": {
        "id": "4z5z8UZV3MpY",
        "colab": {
          "base_uri": "https://localhost:8080/"
        },
        "outputId": "940ef2cb-c1e4-4f25-85a0-7be45c58947d"
      },
      "source": [
        "maximo = float(input('Digito um número: '))\n",
        "\n",
        "for _ in range(4):\n",
        "  maximo = max(maximo, float(input('Digito um número: ')))\n",
        "  print(f'Número máximo encontrado até agora é: {maximo}')"
      ],
      "execution_count": null,
      "outputs": [
        {
          "output_type": "stream",
          "text": [
            "Digito um número: 2\n",
            "Digito um número: 3\n",
            "Número máximo encontrado até agora é: 3.0\n",
            "Digito um número: 4\n",
            "Número máximo encontrado até agora é: 4.0\n",
            "Digito um número: 500\n",
            "Número máximo encontrado até agora é: 500.0\n",
            "Digito um número: 4588314\n",
            "Número máximo encontrado até agora é: 4588314.0\n"
          ],
          "name": "stdout"
        }
      ]
    },
    {
      "cell_type": "markdown",
      "metadata": {
        "id": "va4RGARb8wOu"
      },
      "source": [
        "Exercício 8"
      ]
    },
    {
      "cell_type": "code",
      "metadata": {
        "id": "Z15xtqfu54G4",
        "colab": {
          "base_uri": "https://localhost:8080/"
        },
        "outputId": "f7beb90c-2b4a-49ec-e6ee-7265d99ebe75"
      },
      "source": [
        "soma = float(input('Digito um número: '))\n",
        "\n",
        "for n in range(2, 6):\n",
        "  soma += float(input('Digito um número: '))\n",
        "  media = soma/n\n",
        "  print(f'A soma dos números é: {soma}, e a média é {media}')\n"
      ],
      "execution_count": null,
      "outputs": [
        {
          "output_type": "stream",
          "text": [
            "Digito um número: 2\n",
            "Digito um número: 4\n",
            "A soma dos números é: 6.0, e a média é 3.0\n",
            "Digito um número: 6\n",
            "A soma dos números é: 12.0, e a média é 4.0\n",
            "Digito um número: 4\n",
            "A soma dos números é: 16.0, e a média é 4.0\n",
            "Digito um número: 4\n",
            "A soma dos números é: 20.0, e a média é 4.0\n"
          ],
          "name": "stdout"
        }
      ]
    },
    {
      "cell_type": "markdown",
      "metadata": {
        "id": "CgfUtTJa-JoK"
      },
      "source": [
        "# [Lista](https://wiki.python.org.br/ExerciciosListas) "
      ]
    },
    {
      "cell_type": "markdown",
      "metadata": {
        "id": "-TaPm-6h-UXj"
      },
      "source": [
        "Exercício 1 - Faça um Programa que leia um vetor de 5 números inteiros e mostre-os."
      ]
    },
    {
      "cell_type": "code",
      "metadata": {
        "id": "iMjJK3N2-Wp-",
        "colab": {
          "base_uri": "https://localhost:8080/"
        },
        "outputId": "3a63efed-fbbc-4014-90e5-289eaa70cae4"
      },
      "source": [
        "lista = []\n",
        "\n",
        "for _ in range(5):\n",
        "  numero = float(input('Digito um número: '))\n",
        "  lista.append(numero)\n",
        "\n",
        "print(lista)"
      ],
      "execution_count": null,
      "outputs": [
        {
          "output_type": "stream",
          "text": [
            "Digito um número: 2\n",
            "Digito um número: 3\n",
            "Digito um número: 4\n",
            "Digito um número: .5\n",
            "Digito um número: 8.8\n",
            "[2.0, 3.0, 4.0, 0.5, 8.8]\n"
          ],
          "name": "stdout"
        }
      ]
    },
    {
      "cell_type": "markdown",
      "metadata": {
        "id": "ikVRs9UO_jXv"
      },
      "source": [
        "Exercício 2 - Faça um Programa que leia um vetor de 10 números reais e mostre-os na ordem inversa."
      ]
    },
    {
      "cell_type": "code",
      "metadata": {
        "id": "TUqKVqJK-1cN",
        "colab": {
          "base_uri": "https://localhost:8080/"
        },
        "outputId": "642eef3a-12a3-47a5-d31b-8fcf19871236"
      },
      "source": [
        "lista = []\n",
        "\n",
        "for _ in range(10):\n",
        "  numero = float(input('Digito um número: '))\n",
        "  lista.append(numero)\n",
        "\n",
        "lista.reverse()\n",
        "print(lista)"
      ],
      "execution_count": null,
      "outputs": [
        {
          "output_type": "stream",
          "text": [
            "Digito um número: 1\n",
            "Digito um número: 4\n",
            "Digito um número: 5\n",
            "Digito um número: -6\n",
            "Digito um número: 4\n",
            "Digito um número: 3\n",
            "Digito um número: 45\n",
            "Digito um número: 1124\n",
            "Digito um número: 44444\n",
            "Digito um número: 135422\n",
            "[135422.0, 44444.0, 1124.0, 45.0, 3.0, 4.0, -6.0, 5.0, 4.0, 1.0]\n"
          ],
          "name": "stdout"
        }
      ]
    },
    {
      "cell_type": "markdown",
      "metadata": {
        "id": "lp7ZuJU5AGtu"
      },
      "source": [
        "\n",
        "Exercício 15\n",
        "\n",
        "Faça um programa que leia um número indeterminado de valores, correspondentes a notas, encerrando a entrada de dados quando for informado um valor igual a -1 (que não deve ser armazenado). Após esta entrada de dados, faça:\n",
        "\n",
        "1. Mostre a quantidade de valores que foram lidos;\n",
        "2. Exiba todos os valores na ordem em que foram informados, um ao lado do outro;\n",
        "3. Exiba todos os valores na ordem inversa à que foram informados, um abaixo do outro;\n",
        "4. Calcule e mostre a soma dos valores;\n",
        "5. Calcule e mostre a média dos valores;\n",
        "6. Calcule e mostre a quantidade de valores acima da média calculada;\n",
        "7. Calcule e mostre a quantidade de valores abaixo de sete;\n",
        "8. Encerre o programa com uma mensagem;"
      ]
    },
    {
      "cell_type": "code",
      "metadata": {
        "id": "hInJdiEx_476",
        "colab": {
          "base_uri": "https://localhost:8080/"
        },
        "outputId": "440f8cf2-20eb-4b52-f313-d6e1bb3cb3ca"
      },
      "source": [
        "notas = []\n",
        "\n",
        "lista = []\n",
        "while True:\n",
        "  entrada = input('Digito um número: ')\n",
        "  if entrada == '-1':\n",
        "    break\n",
        "  \n",
        "  notas.append(float(entrada))\n",
        "\n",
        "tamanho = len(notas)\n",
        "\n",
        "print(f'Foram lidas {tamanho} notas')\n",
        "\n",
        "print(' '.join([str(nota) for nota in notas]))\n",
        "\n",
        "notas.reverse()\n",
        "\n",
        "for nota in notas:\n",
        "  print(nota)\n",
        "\n",
        "soma = sum(notas)\n",
        "\n",
        "print(f'Soma das notas é: {soma}')\n",
        "\n",
        "media = soma / tamanho\n",
        "\n",
        "print(f'A média das notas é: {media}')\n",
        "\n",
        "print('Notas acima da média: ')\n",
        "\n",
        "print(' '.join([str(nota) for nota in notas if nota > media]))\n",
        "\n",
        "print('Notas abaixo de 7: ')\n",
        "print(' '.join([str(nota) for nota in notas if nota < 7]))\n",
        "\n",
        "print('Encerrado programa de estatíticas de notas')"
      ],
      "execution_count": null,
      "outputs": [
        {
          "output_type": "stream",
          "text": [
            "Digito um número: 1\n",
            "Digito um número: 2\n",
            "Digito um número: 7\n",
            "Digito um número: 3\n",
            "Digito um número: 10\n",
            "Digito um número: 15\n",
            "Digito um número: -1\n",
            "Foram lidas 6 notas\n",
            "1.0 2.0 7.0 3.0 10.0 15.0\n",
            "15.0\n",
            "10.0\n",
            "3.0\n",
            "7.0\n",
            "2.0\n",
            "1.0\n",
            "Soma das notas é: 38.0\n",
            "A média das notas é: 6.333333333333333\n",
            "Notas acima da média: \n",
            "15.0 10.0 7.0\n",
            "Notas abaixo de 7: \n",
            "3.0 2.0 1.0\n",
            "Encerrado programa de estatíticas de notas\n"
          ],
          "name": "stdout"
        }
      ]
    },
    {
      "cell_type": "markdown",
      "metadata": {
        "id": "xN1QIphMvW78"
      },
      "source": [
        "Exercícios 16\n",
        "\n",
        "Utilize uma lista para resolver o problema a seguir. Uma empresa paga seus vendedores com base em comissões. O vendedor recebe \\$200 por semana mais 9 por cento de suas vendas brutas daquela semana. Por exemplo, um vendedor que teve vendas brutas de \\$3000 em uma semana recebe 200 mais 9 por cento de \\$3000, ou seja, um total de \\$470. Escreva um programa (usando um array de contadores) que determine quantos vendedores receberam salários nos seguintes intervalos de valores:\n",
        "\n",
        "* \\$200 - \\$299\n",
        "* \\$300 - \\$399\n",
        "* \\$400 - \\$499\n",
        "* \\$500 - \\$599\n",
        "* \\$600 - \\$699\n",
        "* \\$700 - \\$799\n",
        "* \\$800 - \\$899\n",
        "* \\$900 - \\$999\n",
        "* \\$1000 em diante\n",
        "\n",
        "Desafio: Crie ma fórmula para chegar na posição da lista a partir do salário, sem fazer vários ifs aninhados."
      ]
    },
    {
      "cell_type": "code",
      "metadata": {
        "id": "1DD-JDxUvZkH",
        "colab": {
          "base_uri": "https://localhost:8080/"
        },
        "outputId": "a285b74b-05c0-4dc0-f4a1-8a93a998c29c"
      },
      "source": [
        "salarios = [200, 250, 320, 413, 516, 680, 791, 877, 999, 1000, 2000, 3000]\n",
        "\n",
        "contagem_de_faixa_salarial = [0] * 9\n",
        "\n",
        "for salario in salarios:\n",
        "  indice = salario // 100 - 2\n",
        "  indice_maximo = len(contagem_de_faixa_salarial) - 1\n",
        "  indice = min(indice, indice_maximo)\n",
        "  contagem_de_faixa_salarial[indice]+=1\n",
        "\n",
        "contagem_de_faixa_salarial"
      ],
      "execution_count": null,
      "outputs": [
        {
          "output_type": "execute_result",
          "data": {
            "text/plain": [
              "[2, 1, 1, 1, 1, 1, 1, 1, 3]"
            ]
          },
          "metadata": {
            "tags": []
          },
          "execution_count": 10
        }
      ]
    },
    {
      "cell_type": "markdown",
      "metadata": {
        "id": "BXxit4-2xnUf"
      },
      "source": [
        "# [ExerciciosFuncoes](https://wiki.python.org.br/ExerciciosFuncoes)"
      ]
    },
    {
      "cell_type": "markdown",
      "metadata": {
        "id": "6Y4IrzojyHRW"
      },
      "source": [
        "Exercicio 1"
      ]
    },
    {
      "cell_type": "code",
      "metadata": {
        "id": "HQ_VNUUewmxN",
        "colab": {
          "base_uri": "https://localhost:8080/"
        },
        "outputId": "5e424c3b-7971-4a74-a3ad-518bd315c3fa"
      },
      "source": [
        "def imprimir_triangulo_de_numeros(n: int):\n",
        "  for i in range(1, n + 1):\n",
        "    for _ in range(0, i):\n",
        "      print(i, end='   ')\n",
        "    print('')\n",
        "\n",
        "imprimir_triangulo_de_numeros(5)"
      ],
      "execution_count": null,
      "outputs": [
        {
          "output_type": "stream",
          "text": [
            "1   \n",
            "2   2   \n",
            "3   3   3   \n",
            "4   4   4   4   \n",
            "5   5   5   5   5   \n"
          ],
          "name": "stdout"
        }
      ]
    },
    {
      "cell_type": "markdown",
      "metadata": {
        "id": "S4MgJYPu0A_B"
      },
      "source": [
        "Exercicio 2"
      ]
    },
    {
      "cell_type": "code",
      "metadata": {
        "id": "QfMWp9gp0CmL",
        "colab": {
          "base_uri": "https://localhost:8080/"
        },
        "outputId": "32781638-052e-4ae4-d49f-1f165f3d28a1"
      },
      "source": [
        "def imprimir_triangulo_de_numeros_crescentes(n: int):\n",
        "  for linha in range(1, n + 1):\n",
        "    for coluna in range(1, linha + 1):\n",
        "      print(coluna, end='   ')\n",
        "    print('')\n",
        "\n",
        "imprimir_triangulo_de_numeros_crescentes(5)"
      ],
      "execution_count": null,
      "outputs": [
        {
          "output_type": "stream",
          "text": [
            "1   \n",
            "1   2   \n",
            "1   2   3   \n",
            "1   2   3   4   \n",
            "1   2   3   4   5   \n"
          ],
          "name": "stdout"
        }
      ]
    },
    {
      "cell_type": "markdown",
      "metadata": {
        "id": "WssTj8f51CHO"
      },
      "source": [
        "# [ExerciciosComStrings](https://wiki.python.org.br/ExerciciosComStrings)"
      ]
    },
    {
      "cell_type": "markdown",
      "metadata": {
        "id": "WdnJQBiz1dVT"
      },
      "source": [
        "Exercícios 1"
      ]
    },
    {
      "cell_type": "code",
      "metadata": {
        "id": "WwIYGsUz1hwk",
        "colab": {
          "base_uri": "https://localhost:8080/"
        },
        "outputId": "1f7ba7e4-941c-40f7-c272-999b6fec4df2"
      },
      "source": [
        "s1 = input('Digite uma string: ')\n",
        "s2 = input('Digite outra string: ')\n",
        "\n",
        "tamanho1 = len(s1)\n",
        "tamanho2 = len(s2)\n",
        "\n",
        "print(f'{s1} : {tamanho1} caracteres')\n",
        "print(f'{s2} : {tamanho2} caracteres')\n",
        "\n",
        "comparacao_de_tamanhos = 'diferentes'\n",
        "comparacao_de_conteudo = 'diferente'\n",
        "\n",
        "if s1 == s2:\n",
        "  comparacao_de_tamanhos = 'iguais'\n",
        "  comparacao_de_conteudo = 'iguais'\n",
        "elif tamanho1 == tamanho2:\n",
        "  comparacao_de_tamanhos = 'iguais'\n",
        "\n",
        "print(f'As duas strings são de tamanhos {comparacao_de_tamanhos}.')\n",
        "print(f'As duas strings possuem conteúdo {comparacao_de_conteudo }')"
      ],
      "execution_count": null,
      "outputs": [
        {
          "output_type": "stream",
          "text": [
            "Digite uma string: casas\n",
            "Digite outra string: banab\n",
            "casas : 5 caracteres\n",
            "banab : 5 caracteres\n",
            "As duas strings são de tamanhos iguais.\n",
            "As duas strings possuem conteúdo diferentes\n"
          ],
          "name": "stdout"
        }
      ]
    },
    {
      "cell_type": "markdown",
      "metadata": {
        "id": "uaK-cG6C7tjl"
      },
      "source": [
        "Exercícios 2"
      ]
    },
    {
      "cell_type": "code",
      "metadata": {
        "id": "0bGmByyj13Qf",
        "colab": {
          "base_uri": "https://localhost:8080/"
        },
        "outputId": "1287d117-c6dd-41a0-f2ee-90148e66389c"
      },
      "source": [
        "nome = 'Renzo dos Santos Nuccitelli'.upper()\n",
        "    \n",
        "nome_invertido_por_letras = ' '.join(reversed(nome))\n",
        "\n",
        "nome_invertido_por_palavras = ' '.join(reversed(nome.split()))\n",
        "\n",
        "print(f'Nome com letras em maiúsculo: {nome}')\n",
        "print(f'Nome com letras em maiúsculo: {nome_invertido_por_letras}')\n",
        "print(f'Nome com letras em maiúsculo: {nome_invertido_por_palavras}')"
      ],
      "execution_count": null,
      "outputs": [
        {
          "output_type": "stream",
          "text": [
            "Nome com letras em maiúsculo: RENZO DOS SANTOS NUCCITELLI\n",
            "Nome com letras em maiúsculo: I L L E T I C C U N   S O T N A S   S O D   O Z N E R\n",
            "Nome com letras em maiúsculo: NUCCITELLI SANTOS DOS RENZO\n"
          ],
          "name": "stdout"
        }
      ]
    },
    {
      "cell_type": "markdown",
      "metadata": {
        "id": "RkW8ctn893Ij"
      },
      "source": [
        "Exercícios 11\n",
        "\n",
        "Jogo de Forca. Desenvolva um jogo da forca. O programa terá uma lista de palavras lidas de um arquivo texto e escolherá uma aleatoriamente. O jogador poderá errar 6 vezes antes de ser enforcado."
      ]
    },
    {
      "cell_type": "code",
      "metadata": {
        "id": "JN7VLNuD98VO",
        "colab": {
          "base_uri": "https://localhost:8080/"
        },
        "outputId": "ad87415f-b92d-410d-ef5f-3d24ae0db7d7"
      },
      "source": [
        "palavra = 'DevPro'.upper()\n",
        "\n",
        "print('Jogo da Forca')\n",
        "print('Descubra a palavra')\n",
        "\n",
        "print('A palavra é: ', end= '')\n",
        "for letra in palavra:\n",
        "  print('_ ', end='')\n",
        "\n",
        "conjunto_letras_palavra = set(palavra)\n",
        "conjunto_letras_digitadas = set()\n",
        "erros = 0\n",
        "\n",
        "\n",
        "while (not conjunto_letras_palavra.issubset(conjunto_letras_digitadas)) and erros < 7:\n",
        "  print('\\n\\n')\n",
        "  \n",
        "  letra_digitada = input('Digite uma letra: ').upper()\n",
        "  conjunto_letras_digitadas.add(letra_digitada)\n",
        "  if letra_digitada in conjunto_letras_palavra:\n",
        "    print('A palavra é: ', end= '')\n",
        "    for letra in palavra:\n",
        "      if letra in conjunto_letras_digitadas:\n",
        "        print(f'{letra} ', end='')\n",
        "      else:\n",
        "        print('_ ', end='')\n",
        "  else:\n",
        "    erros+=1\n",
        "    print(f'-> Erro {erros} de 6. Tente de Novo!')\n",
        "\n",
        "  print('')\n",
        "  print('Letras já digitadas: ', conjunto_letras_digitadas)\n",
        "\n",
        "if erros < 7:\n",
        "  print('Parabéns, você ganhou!')\n",
        "else:\n",
        "  print('Você perdeu!')"
      ],
      "execution_count": null,
      "outputs": [
        {
          "output_type": "stream",
          "text": [
            "Jogo da Forca\n",
            "Descubra a palavra\n",
            "A palavra é: _ _ _ _ _ _ \n",
            "\n",
            "\n",
            "Digite uma letra: w\n",
            "-> Erro 1 de 6. Tente de Novo!\n",
            "\n",
            "Letras já digitadas:  {'W'}\n",
            "\n",
            "\n",
            "\n",
            "Digite uma letra: \n",
            "-> Erro 2 de 6. Tente de Novo!\n",
            "\n",
            "Letras já digitadas:  {'', 'W'}\n",
            "\n",
            "\n",
            "\n",
            "Digite uma letra: y\n",
            "-> Erro 3 de 6. Tente de Novo!\n",
            "\n",
            "Letras já digitadas:  {'', 'Y', 'W'}\n",
            "\n",
            "\n",
            "\n",
            "Digite uma letra: t\n",
            "-> Erro 4 de 6. Tente de Novo!\n",
            "\n",
            "Letras já digitadas:  {'', 'Y', 'T', 'W'}\n",
            "\n",
            "\n",
            "\n",
            "Digite uma letra: e\n",
            "A palavra é: _ E _ _ _ _ \n",
            "Letras já digitadas:  {'', 'E', 'W', 'T', 'Y'}\n",
            "\n",
            "\n",
            "\n",
            "Digite uma letra: 5\n",
            "-> Erro 5 de 6. Tente de Novo!\n",
            "\n",
            "Letras já digitadas:  {'', 'E', '5', 'W', 'T', 'Y'}\n",
            "\n",
            "\n",
            "\n",
            "Digite uma letra: 4\n",
            "-> Erro 6 de 6. Tente de Novo!\n",
            "\n",
            "Letras já digitadas:  {'', 'E', '5', 'W', '4', 'T', 'Y'}\n",
            "\n",
            "\n",
            "\n",
            "Digite uma letra: 3\n",
            "-> Erro 7 de 6. Tente de Novo!\n",
            "\n",
            "Letras já digitadas:  {'', 'E', '5', 'W', '4', 'T', 'Y', '3'}\n",
            "Você perdeu!\n"
          ],
          "name": "stdout"
        }
      ]
    },
    {
      "cell_type": "markdown",
      "metadata": {
        "id": "5avhSre-I5Bz"
      },
      "source": [
        "Exercícios 5\n",
        "\n",
        "Nome na vertical em escada invertida. Altere o programa anterior de modo que a escada seja invertida."
      ]
    },
    {
      "cell_type": "code",
      "metadata": {
        "id": "dJXkX_8oI9K-",
        "outputId": "6932748b-8dfb-4d30-cf84-4cce2c116db0",
        "colab": {
          "base_uri": "https://localhost:8080/"
        }
      },
      "source": [
        "s = 'FULANO'\n",
        "\n",
        "while s != '':\n",
        "  print(s)\n",
        "  s = s[:-1]"
      ],
      "execution_count": 3,
      "outputs": [
        {
          "output_type": "stream",
          "text": [
            "FULANO\n",
            "FULAN\n",
            "FULA\n",
            "FUL\n",
            "FU\n",
            "F\n"
          ],
          "name": "stdout"
        }
      ]
    },
    {
      "cell_type": "markdown",
      "metadata": {
        "id": "wKQMjYsFJtcL"
      },
      "source": [
        "# [ExerciciosArquivos](https://wiki.python.org.br/ExerciciosArquivos)"
      ]
    },
    {
      "cell_type": "code",
      "metadata": {
        "id": "IDAzxyYrKy5P",
        "outputId": "468bed20-8c91-462e-daf9-783cdea1b299",
        "colab": {
          "base_uri": "https://localhost:8080/"
        }
      },
      "source": [
        "!wget -O 'ips.txt' https://raw.githubusercontent.com/HenriqueCCdA/CursoDevProp/main/fundamentosPython/ips.txt\n",
        "!wget -O 'usuarios.txt' https://raw.githubusercontent.com/HenriqueCCdA/CursoDevProp/main/fundamentosPython/usuarios.txt"
      ],
      "execution_count": 80,
      "outputs": [
        {
          "output_type": "stream",
          "text": [
            "--2021-08-12 22:24:58--  https://raw.githubusercontent.com/HenriqueCCdA/CursoDevProp/main/fundamentosPython/ips.txt\n",
            "Resolving raw.githubusercontent.com (raw.githubusercontent.com)... 185.199.110.133, 185.199.111.133, 185.199.108.133, ...\n",
            "Connecting to raw.githubusercontent.com (raw.githubusercontent.com)|185.199.110.133|:443... connected.\n",
            "HTTP request sent, awaiting response... 200 OK\n",
            "Length: 90 [text/plain]\n",
            "Saving to: ‘ips.txt’\n",
            "\n",
            "\rips.txt               0%[                    ]       0  --.-KB/s               \rips.txt             100%[===================>]      90  --.-KB/s    in 0s      \n",
            "\n",
            "2021-08-12 22:24:59 (2.68 MB/s) - ‘ips.txt’ saved [90/90]\n",
            "\n",
            "--2021-08-12 22:24:59--  https://raw.githubusercontent.com/HenriqueCCdA/CursoDevProp/main/fundamentosPython/usuarios.txt\n",
            "Resolving raw.githubusercontent.com (raw.githubusercontent.com)... 185.199.108.133, 185.199.109.133, 185.199.110.133, ...\n",
            "Connecting to raw.githubusercontent.com (raw.githubusercontent.com)|185.199.108.133|:443... connected.\n",
            "HTTP request sent, awaiting response... 200 OK\n",
            "Length: 153 [text/plain]\n",
            "Saving to: ‘usuarios.txt’\n",
            "\n",
            "usuarios.txt        100%[===================>]     153  --.-KB/s    in 0s      \n",
            "\n",
            "2021-08-12 22:24:59 (10.4 MB/s) - ‘usuarios.txt’ saved [153/153]\n",
            "\n"
          ],
          "name": "stdout"
        }
      ]
    },
    {
      "cell_type": "markdown",
      "metadata": {
        "id": "aMSTvlWzST5O"
      },
      "source": [
        "Exercício 1"
      ]
    },
    {
      "cell_type": "code",
      "metadata": {
        "id": "fP91X9xPJyr7"
      },
      "source": [
        "def validar(ip: str) -> bool:\n",
        "  numeros = ip.split('.')\n",
        "\n",
        "  if len(numeros) != 4:\n",
        "    return False\n",
        "\n",
        "  for n in numeros:\n",
        "    if not (0 <= int(n) <= 255):\n",
        "      return False\n",
        "\n",
        "  return True\n",
        " \n",
        "\n",
        "ips_validos = []\n",
        "ips_invalidos = []\n",
        "with open('ips.txt', 'r') as arquivo:\n",
        "  for linha in arquivo:\n",
        "    ip = linha.strip()\n",
        "\n",
        "    if validar(ip):\n",
        "      ips_validos.append(ip)\n",
        "    else:\n",
        "      ips_invalidos.append(ip)\n",
        "\n",
        "with open('ips_saida.txt', 'w') as arquivo:\n",
        "  \n",
        "  arquivo.writelines('[Endereçoes válidos:]\\n')\n",
        "\n",
        "  for ip in ips_validos:\n",
        "    arquivo.writelines(f'{ip}\\n')\n",
        "\n",
        "  arquivo.writelines('\\n\\n')\n",
        "  arquivo.writelines('[Endereçoes inválidos:]\\n')\n",
        "\n",
        "  for ip in ips_invalidos:\n",
        "    arquivo.writelines(f'{ip}\\n')"
      ],
      "execution_count": 39,
      "outputs": []
    },
    {
      "cell_type": "markdown",
      "metadata": {
        "id": "E7ixpUHOSXGG"
      },
      "source": [
        "Exercício 2"
      ]
    },
    {
      "cell_type": "markdown",
      "metadata": {
        "id": "t12ihzyJSOpW"
      },
      "source": [
        "\n",
        "\n",
        "A ACME Inc., uma empresa de 500 funcionários, está tendo problemas de espaço em disco no seu servidor de arquivos. Para tentar resolver este problema, o Administrador de Rede precisa saber qual o espaço ocupado pelos usuários, e identificar os usuários com maior espaço ocupado. Através de um programa, baixado da Internet, ele conseguiu gerar o seguinte arquivo, chamado \"usuarios.txt\":"
      ]
    },
    {
      "cell_type": "code",
      "metadata": {
        "id": "fTmTZwOvSY5N"
      },
      "source": [
        "def transformar_em_megabytes(tamanho_em_bytes:str) -> float:\n",
        "  return int(tamanho_em_bytes) / (2**10) ** 2\n",
        "\n",
        "lista_de_dados = []\n",
        "\n",
        "with open('usuarios.txt', 'r') as arquivo:\n",
        "  for linha in arquivo:\n",
        "    linha = linha.strip()\n",
        "    usuario = linha[:15]\n",
        "    tamanho_em_disco =  transformar_em_megabytes(linha[16:])\n",
        "\n",
        "    lista_de_dados.append((usuario, tamanho_em_disco))\n",
        "\n",
        "cabecalho='''ACME Inc.               Uso do espaço em disco pelos usuários\n",
        "------------------------------------------------------------------------\n",
        "Nr.  Usuário        Espaço utilizado     % do uso\n",
        "'''\n",
        "\n",
        "with open('relatorio.txt', 'w') as arquivo:\n",
        "  \n",
        "  tamanho_total_consumido = sum([tamanho for _, tamanho in lista_de_dados])\n",
        "  media = tamanho_total_consumido / len(lista_de_dados)\n",
        "\n",
        "  arquivo.writelines(cabecalho)\n",
        "\n",
        "\n",
        "  for indice, dados in enumerate(lista_de_dados, start=1):\n",
        "    usuario, tamanho_em_disco = dados\n",
        "    arquivo.writelines(\n",
        "        f'{indice:<4} {usuario} {tamanho_em_disco:9.2f} MB          '\n",
        "        f'{tamanho_em_disco/tamanho_total_consumido:6.2%}\\n')\n",
        "    \n",
        "\n",
        "  arquivo.writelines(f'\\n')  \n",
        "  arquivo.writelines(f'Espaço total ocupado: {tamanho_total_consumido:6.2f} MB\\n')\n",
        "  arquivo.writelines(f'Espaço médio ocupado: {media:6.2f} MB\\n')"
      ],
      "execution_count": 94,
      "outputs": []
    },
    {
      "cell_type": "markdown",
      "metadata": {
        "id": "w6gJSxX0fYOB"
      },
      "source": [
        "#[ExerciciosClasses](https://wiki.python.org.br/ExerciciosClasses)"
      ]
    },
    {
      "cell_type": "markdown",
      "metadata": {
        "id": "PxIKjx3mfnTv"
      },
      "source": [
        "Exercicio1 \n",
        "\n",
        "Classe Bola: Crie uma classe que modele uma bola:\n",
        "\n",
        "Atributos: Cor, circunferência, material\n",
        "Métodos: trocaCor e mostraCor"
      ]
    },
    {
      "cell_type": "code",
      "metadata": {
        "id": "BgXxTPbofx8P",
        "outputId": "b1afe967-4e61-47b5-fd00-d80d39eac6bb",
        "colab": {
          "base_uri": "https://localhost:8080/"
        }
      },
      "source": [
        "class CirculoPerfeito:\n",
        "\n",
        "  def __init__(self):\n",
        "    self.cor = 'Azul'\n",
        "    self.circuferencia = 4\n",
        "    self.material = 'Papel'\n",
        "\n",
        "\n",
        "  def mostra_cor(self):\n",
        "    return self.cor\n",
        "\n",
        "  def trocar_cor(self, cor):\n",
        "    self.cor = cor\n",
        "\n",
        "\n",
        "circulo_primeiro = CirculoPerfeito()\n",
        "circulo_segundo = CirculoPerfeito()\n",
        "\n",
        "circulo_segundo.trocar_cor('Amarelo')\n",
        "\n",
        "print(type(circulo_primeiro))\n",
        "\n",
        "print(circulo_primeiro is circulo_segundo)\n",
        "\n",
        "print(id(circulo_primeiro), circulo_primeiro.mostra_cor())\n",
        "print(id(circulo_segundo) , circulo_segundo.mostra_cor())"
      ],
      "execution_count": 103,
      "outputs": [
        {
          "output_type": "stream",
          "text": [
            "<class '__main__.CirculoPerfeito'>\n",
            "False\n",
            "140237748858064 Azul\n",
            "140237748857872 Amarelo\n"
          ],
          "name": "stdout"
        }
      ]
    },
    {
      "cell_type": "markdown",
      "metadata": {
        "id": "Gh17_HPAje-p"
      },
      "source": [
        "Exercicio2:\n",
        "\n",
        "Classe Quadrado: Crie uma classe que modele um quadrado:\n",
        "\n",
        "Atributos: Tamanho do lado\n",
        "Métodos: Mudar valor do Lado, Retornar valor do Lado e calcular Área;"
      ]
    },
    {
      "cell_type": "code",
      "metadata": {
        "id": "oO6knTAAgFPh",
        "outputId": "bf779c0f-f1b2-4032-873e-4d5804223fe6",
        "colab": {
          "base_uri": "https://localhost:8080/"
        }
      },
      "source": [
        "class Quadrado:\n",
        "  def __init__(self, lado=1):\n",
        "    self.lado = lado\n",
        "\n",
        "  def calcular_area(self):\n",
        "    return self.lado ** 2\n",
        "\n",
        "quadrado = Quadrado(4)\n",
        "\n",
        "print(quadrado.lado, quadrado.calcular_area())\n"
      ],
      "execution_count": 106,
      "outputs": [
        {
          "output_type": "stream",
          "text": [
            "4 16\n"
          ],
          "name": "stdout"
        }
      ]
    },
    {
      "cell_type": "code",
      "metadata": {
        "id": "2xkD9nqLkImP"
      },
      "source": [
        ""
      ],
      "execution_count": null,
      "outputs": []
    }
  ]
}