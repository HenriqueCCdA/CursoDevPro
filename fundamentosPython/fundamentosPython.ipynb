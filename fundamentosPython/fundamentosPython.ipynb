{
  "nbformat": 4,
  "nbformat_minor": 0,
  "metadata": {
    "colab": {
      "name": "fundamentosPython.ipynb",
      "provenance": [],
      "authorship_tag": "ABX9TyMBC8/1yW1SyZH86xaeW2S1",
      "include_colab_link": true
    },
    "kernelspec": {
      "name": "python3",
      "display_name": "Python 3"
    },
    "language_info": {
      "name": "python"
    }
  },
  "cells": [
    {
      "cell_type": "markdown",
      "metadata": {
        "id": "view-in-github",
        "colab_type": "text"
      },
      "source": [
        "<a href=\"https://colab.research.google.com/github/HenriqueCCdA/CursoDevProp/blob/main/fundamentosPython/fundamentosPython.ipynb\" target=\"_parent\"><img src=\"https://colab.research.google.com/assets/colab-badge.svg\" alt=\"Open In Colab\"/></a>"
      ]
    },
    {
      "cell_type": "markdown",
      "metadata": {
        "id": "ocMnBrYDF8Dk"
      },
      "source": [
        "# Desavios DevProp\n",
        "\n",
        "[Lista de exrcicios:](https://wiki.python.org.br/ListaDeExercicios)"
      ]
    },
    {
      "cell_type": "markdown",
      "metadata": {
        "id": "O8reGFWLGtpR"
      },
      "source": [
        "# [Estrutura Sequencial](https://wiki.python.org.br/EstruturaSequencial)"
      ]
    },
    {
      "cell_type": "markdown",
      "metadata": {
        "id": "5WuRJuXnHE5Q"
      },
      "source": [
        "Exercício 1"
      ]
    },
    {
      "cell_type": "code",
      "metadata": {
        "colab": {
          "base_uri": "https://localhost:8080/"
        },
        "id": "WmOBQZTvHHcc",
        "outputId": "aa6e8419-af81-4ee7-932c-a2e7d354722e"
      },
      "source": [
        "print('Olá mudo')"
      ],
      "execution_count": 4,
      "outputs": [
        {
          "output_type": "stream",
          "text": [
            "Olá mudo\n"
          ],
          "name": "stdout"
        }
      ]
    },
    {
      "cell_type": "code",
      "metadata": {
        "colab": {
          "base_uri": "https://localhost:8080/"
        },
        "id": "92ZpCMmqHaRH",
        "outputId": "d6fcce12-daca-490d-d6a3-b095a292945c"
      },
      "source": [
        "type('Olá mundo')"
      ],
      "execution_count": 3,
      "outputs": [
        {
          "output_type": "execute_result",
          "data": {
            "text/plain": [
              "str"
            ]
          },
          "metadata": {
            "tags": []
          },
          "execution_count": 3
        }
      ]
    },
    {
      "cell_type": "markdown",
      "metadata": {
        "id": "KaVFY8wSHvQA"
      },
      "source": [
        "Exercícios 2\n"
      ]
    },
    {
      "cell_type": "code",
      "metadata": {
        "colab": {
          "base_uri": "https://localhost:8080/"
        },
        "id": "WI0K25y2Hx0l",
        "outputId": "9409aaa9-0f22-4eb5-dc80-ee32c0bfbc5e"
      },
      "source": [
        "numero = input('Digite um número: ')\n",
        "print(f'O numero informa do foi {numero}')"
      ],
      "execution_count": 6,
      "outputs": [
        {
          "output_type": "stream",
          "text": [
            "Digite um número: 12\n",
            "O numero informa do foi 12\n"
          ],
          "name": "stdout"
        }
      ]
    },
    {
      "cell_type": "markdown",
      "metadata": {
        "id": "jEgszucOIYcV"
      },
      "source": [
        "# Exercício 3"
      ]
    },
    {
      "cell_type": "code",
      "metadata": {
        "colab": {
          "base_uri": "https://localhost:8080/"
        },
        "id": "0IT8DbINIbF6",
        "outputId": "5fa9690d-6779-46aa-b515-6209db6bad9f"
      },
      "source": [
        "numero_1 = int(input('Digite um número: '))\n",
        "numero_2 = int(input('Digite outro número: '))\n",
        "\n",
        "soma = numero_1 + numero_2\n",
        "\n",
        "print(f'A soma dos dois números é {soma}')"
      ],
      "execution_count": 8,
      "outputs": [
        {
          "output_type": "stream",
          "text": [
            "Digite um número: 12\n",
            "Digite outro número: 5\n",
            "A soma dos dois números é 17\n"
          ],
          "name": "stdout"
        }
      ]
    },
    {
      "cell_type": "markdown",
      "metadata": {
        "id": "DC3J80fTI_EM"
      },
      "source": [
        "Exercício 17"
      ]
    },
    {
      "cell_type": "code",
      "metadata": {
        "colab": {
          "base_uri": "https://localhost:8080/"
        },
        "id": "iq4vmIdeLKb9",
        "outputId": "35add02f-7823-4e40-d434-8508fc339657"
      },
      "source": [
        "import math\n",
        "\n",
        "\n",
        "area_a_ser_pintada = int(input('Digite a área, em metros quadrado, a ser pintada: '))  # Area em metros quadrados\n",
        "\n",
        "area_com_floga = area_a_ser_pintada * 1.1\n",
        "\n",
        "litros_por_metros = 6\n",
        "\n",
        "litros_a_serem_usdados = area_com_floga / litros_por_metros \n",
        "\n",
        "litros_por_latas = 18\n",
        "\n",
        "numero_de_latas = math.ceil(litros_a_serem_usdados / litros_por_latas)\n",
        "valor_com_apenas_latas = numero_de_latas * 80\n",
        "print(f'Você deverá usar usar {numero_de_latas} latas de 18 litros, no valor de R$ {valor_com_apenas_latas}')\n",
        "\n",
        "litros_por_galao = 3.6\n",
        "\n",
        "numero_de_galoes = math.ceil(litros_a_serem_usdados / litros_por_galao)\n",
        "valor_com_apenas_galoes = numero_de_galoes * 25\n",
        "print(f'Você deverá usar usar {numero_de_galoes} galões de 3.6 litros, no valor de R$ {valor_com_apenas_galoes}')\n",
        "\n",
        "# compara de tinta por valor\n",
        "\n",
        "numero_de_latas = math.floor(litros_a_serem_usdados / litros_por_latas)\n",
        "valor_de_latas = numero_de_latas * 80\n",
        "\n",
        "litro_faltantes = litros_a_serem_usdados % litros_por_latas\n",
        "numero_de_galoes = math.ceil(litro_faltantes / litros_por_galao)\n",
        "valor_de_galoes = numero_de_galoes * 25\n",
        "\n",
        "valor_total_gasto = valor_de_latas + valor_de_galoes\n",
        "\n",
        "\n",
        "print(f'Você deverá usar usar {numero_de_latas} latas de 18 litros mais {numero_de_galoes} galões de 3.6 litros, no valor de R$ {valor_total_gasto}')\n"
      ],
      "execution_count": 56,
      "outputs": [
        {
          "output_type": "stream",
          "text": [
            "Digite a área, em metros quadrado, a ser pintada: 200\n",
            "Você deverá usar usar 3 latas de 18 litros, no valor de R$ 240\n",
            "Você deverá usar usar 11 galões de 3.6 litros, no valor de R$ 275\n",
            "Você deverá usar usar 2 latas de 18 litros mais 1 galões de 3.6 litros, no valor de R$ 185\n"
          ],
          "name": "stdout"
        }
      ]
    },
    {
      "cell_type": "markdown",
      "metadata": {
        "id": "wZmCjTGld4GV"
      },
      "source": [
        "# [Lista de Decisão](https://wiki.python.org.br/EstruturaDeDecisao)"
      ]
    },
    {
      "cell_type": "markdown",
      "metadata": {
        "id": "3aO4kJAzeCeM"
      },
      "source": [
        "Exercício 3"
      ]
    },
    {
      "cell_type": "code",
      "metadata": {
        "colab": {
          "base_uri": "https://localhost:8080/"
        },
        "id": "W63xOtNed6Sp",
        "outputId": "3b8b9458-c51d-46d5-b744-38a686926aa2"
      },
      "source": [
        "sexo = input('Digite o seu sexo. (M para Masculino, F para Feminino, I para Indefinido): ').upper()\n",
        "\n",
        "if sexo == 'M':\n",
        "  print('Masculino')\n",
        "elif sexo == 'F':\n",
        "  print('Femininio')\n",
        "elif sexo == 'I':\n",
        "  print('Indefinido')\n",
        "else:\n",
        "  print('Sexo Inválido')\n",
        "\n",
        "print('Finalizou o programa')"
      ],
      "execution_count": 58,
      "outputs": [
        {
          "output_type": "stream",
          "text": [
            "Digite o seu sexo. (M para Masculino, F para Feminino, I para Indefinido): M\n",
            "Masculino\n",
            "Finalizou o programa\n"
          ],
          "name": "stdout"
        }
      ]
    },
    {
      "cell_type": "markdown",
      "metadata": {
        "id": "DVciURtohBtv"
      },
      "source": [
        "Exercício 5"
      ]
    },
    {
      "cell_type": "code",
      "metadata": {
        "colab": {
          "base_uri": "https://localhost:8080/"
        },
        "id": "jQ21Spa0gmfd",
        "outputId": "3c9ac2b4-863f-4222-8156-f3dcbd68cb7b"
      },
      "source": [
        "nota_1 = float(input('Digite a promeira nota: '))\n",
        "nota_2 = float(input('Digite a segunda nota: '))\n",
        "\n",
        "media = (nota_1 + nota_2) / 2\n",
        "\n",
        "print(f'Sua média foi: {media}')\n",
        "\n",
        "if media >= 10:\n",
        "  print('Aprovado com distinção')\n",
        "elif media >= 7:\n",
        "  print('Aprovado')\n",
        "else:\n",
        "  print('Repovado')"
      ],
      "execution_count": 63,
      "outputs": [
        {
          "output_type": "stream",
          "text": [
            "Digite a promeira nota: 10\n",
            "Digite a segunda nota: 4\n",
            "Sua média foi: 7.0\n",
            "Aprovado\n"
          ],
          "name": "stdout"
        }
      ]
    },
    {
      "cell_type": "markdown",
      "metadata": {
        "id": "JRjssyUbk6KM"
      },
      "source": [
        "Exercício 19"
      ]
    },
    {
      "cell_type": "code",
      "metadata": {
        "colab": {
          "base_uri": "https://localhost:8080/"
        },
        "id": "0MvlBkqYk4Zx",
        "outputId": "87cee9ca-037e-47ad-a3d0-38ed616577bb"
      },
      "source": [
        "numero = 26\n",
        "\n",
        "centenas_str = dezenas_str = unidades_str = ''\n",
        "\n",
        "centenas_int, numero = divmod(numero, 100)\n",
        "\n",
        "partes_numericas = 0\n",
        "\n",
        "if centenas_int == 1:\n",
        "  centenas_str = ' 1 centena'\n",
        "  partes_numericas += 1\n",
        "elif centenas_int > 1:\n",
        "  centenas_str = f'{centenas_int} centenas'\n",
        "  partes_numericas += 1\n",
        "\n",
        "dezenas_int, numero  = divmod(numero, 10)\n",
        "\n",
        "if dezenas_int == 1:\n",
        "  dezenas_str = ' 1 dezena'\n",
        "  partes_numericas += 1\n",
        "elif dezenas_int > 1:\n",
        "  dezenas_str = f'{dezenas_int} dezenas'\n",
        "  partes_numericas += 1\n",
        "\n",
        "if numero == 1:\n",
        "  unidades_str = ' 1 unidade'\n",
        "  partes_numericas += 1\n",
        "elif numero > 1:\n",
        "  unidades_str = f'{numero} unidades'\n",
        "  partes_numericas += 1\n",
        "\n",
        "if partes_numericas == 0:\n",
        "  print('Número 0 não possui centenas, dezenas ou unidades')\n",
        "elif partes_numericas == 1:\n",
        "  print(centenas_str + dezenas_str + unidades_str)  \n",
        "elif partes_numericas == 3:\n",
        "  print(f'{centenas_str}, {dezenas_str} e {unidades_str}')    \n",
        "elif partes_numericas == 2:\n",
        "  if centenas_str != '':\n",
        "    segunda_parte = dezenas_str + unidades_str\n",
        "    print(f'{centenas_str} e {segunda_parte}')    \n",
        "  else:\n",
        "    print(f'{ dezenas_str} e {unidades_str}')\n",
        "\n"
      ],
      "execution_count": 90,
      "outputs": [
        {
          "output_type": "stream",
          "text": [
            "2 dezenas e 6 unidades\n"
          ],
          "name": "stdout"
        }
      ]
    },
    {
      "cell_type": "markdown",
      "metadata": {
        "id": "WKFohQRBqUxJ"
      },
      "source": [
        "Exercicios 21"
      ]
    },
    {
      "cell_type": "code",
      "metadata": {
        "colab": {
          "base_uri": "https://localhost:8080/"
        },
        "id": "_w0N--pCqaBY",
        "outputId": "bcdd640a-9aa3-40a4-8c28-fe19f7ae8c40"
      },
      "source": [
        "saque = 299\n",
        "\n",
        "notas_de_100 = notas_de_50 = notas_de_10 = notas_de_5 = notas_de_1 = 0\n",
        "\n",
        "notas_de_100, saque      = divmod(saque, 100)\n",
        "notas_de_50 , saque      = divmod(saque, 50)\n",
        "notas_de_10 , saque      = divmod(saque, 10)\n",
        "notas_de_5  , notas_de_1 = divmod(saque, 5)\n",
        "\n",
        "if notas_de_100 > 0:\n",
        "  print(f'{notas_de_100} nota(s) de 100')\n",
        "\n",
        "if notas_de_50 > 0:\n",
        "  print(f'{notas_de_50} nota(s) de 50')\n",
        "\n",
        "if notas_de_10 > 0:\n",
        "  print(f'{notas_de_10} nota(s) de 10')\n",
        "\n",
        "if notas_de_5 > 0:\n",
        "  print(f'{notas_de_5} nota(s) de 5')\n",
        "\n",
        "if notas_de_1 > 0:\n",
        "  print(f'{notas_de_1} nota(s) de 1')  \n"
      ],
      "execution_count": 94,
      "outputs": [
        {
          "output_type": "stream",
          "text": [
            "2 nota(s) de 100\n",
            "1 nota(s) de 50\n",
            "4 nota(s) de 10\n",
            "1 nota(s) de 5\n",
            "4 nota(s) de 1\n"
          ],
          "name": "stdout"
        }
      ]
    },
    {
      "cell_type": "markdown",
      "metadata": {
        "id": "O_PI4ssNpeki"
      },
      "source": [
        "# [Estrutura de repetição](https://wiki.python.org.br/EstruturaDeRepeticao)"
      ]
    },
    {
      "cell_type": "code",
      "metadata": {
        "id": "Bp3df2eclzqn"
      },
      "source": [
        ""
      ],
      "execution_count": null,
      "outputs": []
    }
  ]
}